{
 "cells": [
  {
   "cell_type": "markdown",
   "metadata": {},
   "source": [
    "# SWAPI (Star Wars)\n",
    "\n",
    "Answer the following questions using the [Star Wars](https://swapi.co/). I've added three cells for each question but you're free to use more or less! Hold `Shift` and hit `Enter` to run a cell, and use the `+` on the top left to add a new cell to a notebook.\n",
    "\n",
    "If you spend some time reading the documentation your life will probably be a little bit easier!\n",
    "\n",
    "## 0) Import any libraries you might need\n",
    "\n",
    "- *Tip: We're going to be downloading things from the internet, so we probably need `requests`.*"
   ]
  },
  {
   "cell_type": "code",
   "execution_count": 38,
   "metadata": {},
   "outputs": [],
   "source": [
    "\n",
    "import requests"
   ]
  },
  {
   "cell_type": "code",
   "execution_count": 1,
   "metadata": {},
   "outputs": [],
   "source": [
    "!touch .env"
   ]
  },
  {
   "cell_type": "code",
   "execution_count": null,
   "metadata": {},
   "outputs": [],
   "source": []
  },
  {
   "cell_type": "markdown",
   "metadata": {},
   "source": [
    "## 1) Make a request to the Star Wars API\n",
    "\n",
    "I've heard there's a new Star Wars film called **Solo**, but it isn't in SWAPI!\n",
    "\n",
    "The most recent film it contains has an ID of 7. Make a request for that film and look at the data."
   ]
  },
  {
   "cell_type": "code",
   "execution_count": 39,
   "metadata": {},
   "outputs": [],
   "source": [
    "response = requests.get('https://swapi.co/api/films/7/')"
   ]
  },
  {
   "cell_type": "code",
   "execution_count": 40,
   "metadata": {},
   "outputs": [],
   "source": [
    "film_7 = response.json()"
   ]
  },
  {
   "cell_type": "code",
   "execution_count": 42,
   "metadata": {},
   "outputs": [
    {
     "name": "stdout",
     "output_type": "stream",
     "text": [
      "dict_keys(['title', 'episode_id', 'opening_crawl', 'director', 'producer', 'release_date', 'characters', 'planets', 'starships', 'vehicles', 'species', 'created', 'edited', 'url'])\n"
     ]
    }
   ],
   "source": [
    "#print(film_7)\n",
    "print(film_7.keys())"
   ]
  },
  {
   "cell_type": "markdown",
   "metadata": {},
   "source": [
    "## 2) What is that film's name, and when was it released?\n",
    "\n",
    "Please print **only** the title and the release date. You can guess at the keys, but I recommend checking the documentation."
   ]
  },
  {
   "cell_type": "code",
   "execution_count": 43,
   "metadata": {},
   "outputs": [
    {
     "name": "stdout",
     "output_type": "stream",
     "text": [
      "Title: The Force Awakens\n",
      "Release Date: 2015-12-11\n"
     ]
    }
   ],
   "source": [
    "print(\"Title:\",film_7['title'])\n",
    "print(\"Release Date:\",film_7['release_date'])"
   ]
  },
  {
   "cell_type": "code",
   "execution_count": null,
   "metadata": {},
   "outputs": [],
   "source": []
  },
  {
   "cell_type": "code",
   "execution_count": null,
   "metadata": {},
   "outputs": [],
   "source": []
  },
  {
   "cell_type": "markdown",
   "metadata": {},
   "source": [
    "## 3) But I want Han Solo! Use the API to search for people named \"Solo\"."
   ]
  },
  {
   "cell_type": "code",
   "execution_count": 44,
   "metadata": {},
   "outputs": [],
   "source": [
    "solo_search_response = requests.get('https://swapi.co/api/people/?search=solo')"
   ]
  },
  {
   "cell_type": "code",
   "execution_count": 45,
   "metadata": {},
   "outputs": [],
   "source": [
    "solo_people = solo_search_response.json()"
   ]
  },
  {
   "cell_type": "code",
   "execution_count": 46,
   "metadata": {},
   "outputs": [
    {
     "name": "stdout",
     "output_type": "stream",
     "text": [
      "{'count': 1, 'next': None, 'previous': None, 'results': [{'name': 'Han Solo', 'height': '180', 'mass': '80', 'hair_color': 'brown', 'skin_color': 'fair', 'eye_color': 'brown', 'birth_year': '29BBY', 'gender': 'male', 'homeworld': 'https://swapi.co/api/planets/22/', 'films': ['https://swapi.co/api/films/2/', 'https://swapi.co/api/films/3/', 'https://swapi.co/api/films/1/', 'https://swapi.co/api/films/7/'], 'species': ['https://swapi.co/api/species/1/'], 'vehicles': [], 'starships': ['https://swapi.co/api/starships/10/', 'https://swapi.co/api/starships/22/'], 'created': '2014-12-10T16:49:14.582000Z', 'edited': '2014-12-20T21:17:50.334000Z', 'url': 'https://swapi.co/api/people/14/'}]}\n"
     ]
    }
   ],
   "source": [
    "print(solo_people)"
   ]
  },
  {
   "cell_type": "markdown",
   "metadata": {},
   "source": [
    "## 4) How many results did you get?\n",
    "\n",
    "Show **two different ways** of displaying this number.\n",
    "\n",
    "- *Tip: One uses the API, and one uses a Python function*"
   ]
  },
  {
   "cell_type": "code",
   "execution_count": 47,
   "metadata": {},
   "outputs": [
    {
     "name": "stdout",
     "output_type": "stream",
     "text": [
      "Number of Results through the API Way: 1\n"
     ]
    }
   ],
   "source": [
    "print(\"Number of Results through the API Way:\", solo_people['count'])"
   ]
  },
  {
   "cell_type": "code",
   "execution_count": 48,
   "metadata": {},
   "outputs": [
    {
     "name": "stdout",
     "output_type": "stream",
     "text": [
      "Number of Results through the Python Function: 1\n"
     ]
    }
   ],
   "source": [
    "print(\"Number of Results through the Python Function:\",len(solo_people['results']))"
   ]
  },
  {
   "cell_type": "code",
   "execution_count": null,
   "metadata": {},
   "outputs": [],
   "source": []
  },
  {
   "cell_type": "markdown",
   "metadata": {},
   "source": [
    "## 5) Write me a sentence about Han Solo\n",
    "\n",
    "Your sentence should be say `\"____ has _____ hair, is _____cm tall and weighs ____kg.\"` - make sure you have **no spcaes** between the numbers and `cm`/`kg`."
   ]
  },
  {
   "cell_type": "code",
   "execution_count": 49,
   "metadata": {},
   "outputs": [
    {
     "name": "stdout",
     "output_type": "stream",
     "text": [
      "Han Solo has brown hair, is 180cm tall and weighs 80kg.\n"
     ]
    }
   ],
   "source": [
    "all_results = solo_people['results']\n",
    "for all_result in all_results:\n",
    "    name = all_result['name']\n",
    "    hair = all_result['hair_color']\n",
    "    height = all_result['height']\n",
    "    weight = all_result['mass']\n",
    "    print(f\"{name} has {hair} hair, is {height}cm tall and weighs {weight}kg.\")\n"
   ]
  },
  {
   "cell_type": "code",
   "execution_count": null,
   "metadata": {},
   "outputs": [],
   "source": []
  },
  {
   "cell_type": "code",
   "execution_count": null,
   "metadata": {},
   "outputs": [],
   "source": []
  },
  {
   "cell_type": "markdown",
   "metadata": {},
   "source": [
    "## 5) Search for C-3PO"
   ]
  },
  {
   "cell_type": "code",
   "execution_count": 50,
   "metadata": {},
   "outputs": [],
   "source": [
    "c3po_search = requests.get('https://swapi.co/api/people/?search=c-3po')\n",
    "c3po = c3po_search.json()\n",
    "#c3po"
   ]
  },
  {
   "cell_type": "code",
   "execution_count": null,
   "metadata": {},
   "outputs": [],
   "source": [
    "\n"
   ]
  },
  {
   "cell_type": "code",
   "execution_count": null,
   "metadata": {},
   "outputs": [],
   "source": []
  },
  {
   "cell_type": "markdown",
   "metadata": {},
   "source": [
    "## 6) What URL can tell me more about his species? Make a request to the corrent endpoint.\n",
    "\n",
    "Spoiler: he's a **droid**. Are robots a species? I guess so, maybe."
   ]
  },
  {
   "cell_type": "code",
   "execution_count": 51,
   "metadata": {},
   "outputs": [
    {
     "name": "stdout",
     "output_type": "stream",
     "text": [
      "Species URL: https://swapi.co/api/species/2/\n"
     ]
    }
   ],
   "source": [
    "c3po_results = c3po['results']\n",
    "for c3po_result in c3po_results :\n",
    "    species_url = c3po_result['species'][0]\n",
    "    print(f\"Species URL: {species_url}\")"
   ]
  },
  {
   "cell_type": "code",
   "execution_count": null,
   "metadata": {},
   "outputs": [],
   "source": []
  },
  {
   "cell_type": "code",
   "execution_count": null,
   "metadata": {},
   "outputs": [],
   "source": []
  },
  {
   "cell_type": "markdown",
   "metadata": {},
   "source": [
    "## 7) Print out the URL of every droid\n",
    "\n",
    "* *Tip: life will be easier if you don't say `for droid in...` or `for person in` because you aren't looping through droids or people. What are you looping through?*"
   ]
  },
  {
   "cell_type": "code",
   "execution_count": 52,
   "metadata": {},
   "outputs": [],
   "source": [
    "droid_response = requests.get(species_url)\n",
    "droid_search = droid_response.json()\n",
    "#print(droid_search)"
   ]
  },
  {
   "cell_type": "code",
   "execution_count": 53,
   "metadata": {},
   "outputs": [
    {
     "name": "stdout",
     "output_type": "stream",
     "text": [
      "https://swapi.co/api/people/2/\n",
      "https://swapi.co/api/people/3/\n",
      "https://swapi.co/api/people/8/\n",
      "https://swapi.co/api/people/23/\n",
      "https://swapi.co/api/people/87/\n"
     ]
    }
   ],
   "source": [
    "droids = droid_search['people']\n",
    "for droid in droids :\n",
    "    droid_url = droid\n",
    "    print(droid_url)"
   ]
  },
  {
   "cell_type": "code",
   "execution_count": null,
   "metadata": {},
   "outputs": [],
   "source": []
  },
  {
   "cell_type": "markdown",
   "metadata": {},
   "source": [
    "## 8) Print out the name of every droid\n",
    "\n",
    "* *Tip: You should start from the last answer, but add more stuff in!*\n",
    "* *Tip: You'll need to make a request every time you're in the loop*\n",
    "* *Tip: Be careful - f you re-use the variable name `data` you'll erase your old `data` variable*"
   ]
  },
  {
   "cell_type": "code",
   "execution_count": 54,
   "metadata": {},
   "outputs": [
    {
     "name": "stdout",
     "output_type": "stream",
     "text": [
      "C-3PO\n",
      "R2-D2\n",
      "R5-D4\n",
      "IG-88\n",
      "BB8\n"
     ]
    }
   ],
   "source": [
    "for droid in droids:\n",
    "    droid_url = droid\n",
    "    droid_specific = requests.get(droid_url)\n",
    "    droid_info = droid_specific.json()\n",
    "    print(droid_info['name'])\n",
    "    \n",
    "    "
   ]
  },
  {
   "cell_type": "code",
   "execution_count": null,
   "metadata": {},
   "outputs": [],
   "source": []
  },
  {
   "cell_type": "code",
   "execution_count": null,
   "metadata": {},
   "outputs": [],
   "source": []
  },
  {
   "cell_type": "markdown",
   "metadata": {},
   "source": [
    "## 9) Print out more about the droid\n",
    "\n",
    "Count the number of films for each droid, printing `\"___ was in ___ films\"` for each of them\n",
    "\n",
    "* *Tip: You might want to look at a single droid result, or print the data in the for loop, so you know how to get the films. Or read the documentation!*"
   ]
  },
  {
   "cell_type": "code",
   "execution_count": 55,
   "metadata": {},
   "outputs": [
    {
     "name": "stdout",
     "output_type": "stream",
     "text": [
      "C-3PO was in 6 films.\n",
      "R2-D2 was in 7 films.\n",
      "R5-D4 was in 1 films.\n",
      "IG-88 was in 1 films.\n",
      "BB8 was in 1 films.\n"
     ]
    }
   ],
   "source": [
    "for droid in droids:\n",
    "    droid_url = droid\n",
    "    droid_specific = requests.get(droid_url)\n",
    "    droid_info = droid_specific.json()\n",
    "    films = len(droid_info['films'])\n",
    "    print(droid_info['name'], \"was in\", films, \"films.\")"
   ]
  },
  {
   "cell_type": "code",
   "execution_count": null,
   "metadata": {},
   "outputs": [],
   "source": []
  },
  {
   "cell_type": "code",
   "execution_count": null,
   "metadata": {},
   "outputs": [],
   "source": []
  },
  {
   "cell_type": "markdown",
   "metadata": {},
   "source": [
    "## 10) Let's be smart and cache the results *[DIFFICULT, maybe!]*\n",
    "\n",
    "So far we've been using a for loop to go through each droid. Every droid, one more request. Every time we want more data, we run the loops again. I don't want that guy to get angry that we're asking for so much data!\n",
    "\n",
    "We want to our list of **droid urls** and turn it into a **list of dictionaries about those droids**. Save it as a variable called `droids`. If you get it correct, the following code should work if you cut and paste it.\n",
    "\n",
    "```python\n",
    "for droid in droids:\n",
    "    print(droid['name'])\n",
    "```\n",
    "\n",
    "* *Tip: Use a list comprehension*\n",
    "* *Tip: So far we've done `response = requests.get..` and `response.json()` on separate lines. You'll need to combine them!*"
   ]
  },
  {
   "cell_type": "code",
   "execution_count": 56,
   "metadata": {},
   "outputs": [
    {
     "name": "stdout",
     "output_type": "stream",
     "text": [
      "[{'name': 'C-3PO', 'height': '167', 'mass': '75', 'hair_color': 'n/a', 'skin_color': 'gold', 'eye_color': 'yellow', 'birth_year': '112BBY', 'gender': 'n/a', 'homeworld': 'https://swapi.co/api/planets/1/', 'films': ['https://swapi.co/api/films/2/', 'https://swapi.co/api/films/5/', 'https://swapi.co/api/films/4/', 'https://swapi.co/api/films/6/', 'https://swapi.co/api/films/3/', 'https://swapi.co/api/films/1/'], 'species': ['https://swapi.co/api/species/2/'], 'vehicles': [], 'starships': [], 'created': '2014-12-10T15:10:51.357000Z', 'edited': '2014-12-20T21:17:50.309000Z', 'url': 'https://swapi.co/api/people/2/'}, {'name': 'R2-D2', 'height': '96', 'mass': '32', 'hair_color': 'n/a', 'skin_color': 'white, blue', 'eye_color': 'red', 'birth_year': '33BBY', 'gender': 'n/a', 'homeworld': 'https://swapi.co/api/planets/8/', 'films': ['https://swapi.co/api/films/2/', 'https://swapi.co/api/films/5/', 'https://swapi.co/api/films/4/', 'https://swapi.co/api/films/6/', 'https://swapi.co/api/films/3/', 'https://swapi.co/api/films/1/', 'https://swapi.co/api/films/7/'], 'species': ['https://swapi.co/api/species/2/'], 'vehicles': [], 'starships': [], 'created': '2014-12-10T15:11:50.376000Z', 'edited': '2014-12-20T21:17:50.311000Z', 'url': 'https://swapi.co/api/people/3/'}, {'name': 'R5-D4', 'height': '97', 'mass': '32', 'hair_color': 'n/a', 'skin_color': 'white, red', 'eye_color': 'red', 'birth_year': 'unknown', 'gender': 'n/a', 'homeworld': 'https://swapi.co/api/planets/1/', 'films': ['https://swapi.co/api/films/1/'], 'species': ['https://swapi.co/api/species/2/'], 'vehicles': [], 'starships': [], 'created': '2014-12-10T15:57:50.959000Z', 'edited': '2014-12-20T21:17:50.321000Z', 'url': 'https://swapi.co/api/people/8/'}, {'name': 'IG-88', 'height': '200', 'mass': '140', 'hair_color': 'none', 'skin_color': 'metal', 'eye_color': 'red', 'birth_year': '15BBY', 'gender': 'none', 'homeworld': 'https://swapi.co/api/planets/28/', 'films': ['https://swapi.co/api/films/2/'], 'species': ['https://swapi.co/api/species/2/'], 'vehicles': [], 'starships': [], 'created': '2014-12-15T12:51:10.076000Z', 'edited': '2014-12-20T21:17:50.351000Z', 'url': 'https://swapi.co/api/people/23/'}, {'name': 'BB8', 'height': 'unknown', 'mass': 'unknown', 'hair_color': 'none', 'skin_color': 'none', 'eye_color': 'black', 'birth_year': 'unknown', 'gender': 'none', 'homeworld': 'https://swapi.co/api/planets/28/', 'films': ['https://swapi.co/api/films/7/'], 'species': ['https://swapi.co/api/species/2/'], 'vehicles': [], 'starships': [], 'created': '2015-04-17T06:57:38.061346Z', 'edited': '2015-04-17T06:57:38.061453Z', 'url': 'https://swapi.co/api/people/87/'}]\n"
     ]
    }
   ],
   "source": [
    "droids_list = []\n",
    "for droid in droids:\n",
    "    droid_specific = requests.get(droid).json()\n",
    "    droids_list.append(droid_specific)\n",
    "print(droids_list)"
   ]
  },
  {
   "cell_type": "code",
   "execution_count": null,
   "metadata": {},
   "outputs": [],
   "source": []
  },
  {
   "cell_type": "code",
   "execution_count": null,
   "metadata": {},
   "outputs": [],
   "source": []
  },
  {
   "cell_type": "markdown",
   "metadata": {},
   "source": [
    "## 11) Get a list of every single planet in the Star Wars universe\n",
    "\n",
    "* *Tip: You'll want to use the API documentation for this, I think*"
   ]
  },
  {
   "cell_type": "code",
   "execution_count": 62,
   "metadata": {},
   "outputs": [
    {
     "name": "stdout",
     "output_type": "stream",
     "text": [
      "Tatooine\n",
      "Alderaan\n",
      "Yavin IV\n",
      "Hoth\n",
      "Dagobah\n",
      "Bespin\n",
      "Endor\n",
      "Naboo\n",
      "Coruscant\n",
      "Kamino\n",
      "Geonosis\n",
      "Utapau\n",
      "Mustafar\n",
      "Kashyyyk\n",
      "Polis Massa\n",
      "Mygeeto\n",
      "Felucia\n",
      "Cato Neimoidia\n",
      "Saleucami\n",
      "Stewjon\n",
      "Eriadu\n",
      "Corellia\n",
      "Rodia\n",
      "Nal Hutta\n",
      "Dantooine\n",
      "Bestine IV\n",
      "Ord Mantell\n",
      "unknown\n",
      "Trandosha\n",
      "Socorro\n",
      "Mon Cala\n",
      "Chandrila\n",
      "Sullust\n",
      "Toydaria\n",
      "Malastare\n",
      "Dathomir\n",
      "Ryloth\n",
      "Aleen Minor\n",
      "Vulpter\n",
      "Troiken\n",
      "Tund\n",
      "Haruun Kal\n",
      "Cerea\n",
      "Glee Anselm\n",
      "Iridonia\n",
      "Tholoth\n",
      "Iktotch\n",
      "Quermia\n",
      "Dorin\n",
      "Champala\n",
      "Mirial\n",
      "Serenno\n",
      "Concord Dawn\n",
      "Zolan\n",
      "Ojom\n",
      "Skako\n",
      "Muunilinst\n",
      "Shili\n",
      "Kalee\n",
      "Umbara\n",
      "Jakku\n",
      "['Tatooine', 'Alderaan', 'Yavin IV', 'Hoth', 'Dagobah', 'Bespin', 'Endor', 'Naboo', 'Coruscant', 'Kamino', 'Geonosis', 'Utapau', 'Mustafar', 'Kashyyyk', 'Polis Massa', 'Mygeeto', 'Felucia', 'Cato Neimoidia', 'Saleucami', 'Stewjon', 'Eriadu', 'Corellia', 'Rodia', 'Nal Hutta', 'Dantooine', 'Bestine IV', 'Ord Mantell', 'unknown', 'Trandosha', 'Socorro', 'Mon Cala', 'Chandrila', 'Sullust', 'Toydaria', 'Malastare', 'Dathomir', 'Ryloth', 'Aleen Minor', 'Vulpter', 'Troiken', 'Tund', 'Haruun Kal', 'Cerea', 'Glee Anselm', 'Iridonia', 'Tholoth', 'Iktotch', 'Quermia', 'Dorin', 'Champala', 'Mirial', 'Serenno', 'Concord Dawn', 'Zolan', 'Ojom', 'Skako', 'Muunilinst', 'Shili', 'Kalee', 'Umbara', 'Jakku']\n"
     ]
    }
   ],
   "source": [
    "planets_list = []\n",
    "planets = requests.get('https://swapi.co/api/planets').json()\n",
    "number_of_planets = planets['count']\n",
    "count = 0\n",
    "for count in range(number_of_planets):\n",
    "    count = count+1\n",
    "    planet = requests.get(f'https://swapi.co/api/planets/{count}').json()\n",
    "    name= planet['name']\n",
    "    planets_list.append(name)\n",
    "print(planets_list)\n",
    "\n",
    "\n",
    "\n",
    "\n",
    "    \n",
    "                                \n"
   ]
  },
  {
   "cell_type": "code",
   "execution_count": null,
   "metadata": {},
   "outputs": [],
   "source": []
  },
  {
   "cell_type": "code",
   "execution_count": null,
   "metadata": {},
   "outputs": [],
   "source": []
  },
  {
   "cell_type": "markdown",
   "metadata": {},
   "source": [
    "## 12) How many plants are there? Show me two different ways of displaying the answer.\n",
    "\n",
    "* *Tip: They won't match*"
   ]
  },
  {
   "cell_type": "code",
   "execution_count": 63,
   "metadata": {},
   "outputs": [
    {
     "name": "stdout",
     "output_type": "stream",
     "text": [
      "61\n"
     ]
    }
   ],
   "source": [
    "#Way One\n",
    "planets = requests.get('https://swapi.co/api/planets').json()\n",
    "number_of_planets = planets['count']\n",
    "print(number_of_planets)"
   ]
  },
  {
   "cell_type": "code",
   "execution_count": 64,
   "metadata": {},
   "outputs": [
    {
     "name": "stdout",
     "output_type": "stream",
     "text": [
      "61\n"
     ]
    }
   ],
   "source": [
    "#Way Two\n",
    "print(len(planets_list))"
   ]
  },
  {
   "cell_type": "code",
   "execution_count": null,
   "metadata": {},
   "outputs": [],
   "source": []
  },
  {
   "cell_type": "markdown",
   "metadata": {},
   "source": [
    "# These questions are all list comprehension questions, if you'd like\n",
    "\n",
    "## 13) Get the population of each of the planets\n",
    "\n",
    "* *Tip: Only use the 10 results for now*\n",
    "* *Tip: Use a list comprehension*"
   ]
  },
  {
   "cell_type": "code",
   "execution_count": 72,
   "metadata": {},
   "outputs": [
    {
     "name": "stdout",
     "output_type": "stream",
     "text": [
      "200000\n",
      "2000000000\n",
      "1000\n",
      "unknown\n",
      "unknown\n",
      "6000000\n",
      "30000000\n",
      "4500000000\n",
      "1000000000000\n",
      "1000000000\n",
      "100000000000\n",
      "95000000\n",
      "20000\n",
      "45000000\n",
      "1000000\n",
      "19000000\n",
      "8500000\n",
      "10000000\n",
      "1400000000\n",
      "unknown\n",
      "22000000000\n",
      "3000000000\n",
      "1300000000\n",
      "7000000000\n",
      "1000\n",
      "62000000\n",
      "4000000000\n",
      "unknown\n",
      "42000000\n",
      "300000000\n",
      "27000000000\n",
      "1200000000\n",
      "18500000000\n",
      "11000000\n",
      "2000000000\n",
      "5200\n",
      "1500000000\n",
      "unknown\n",
      "421000000\n",
      "unknown\n",
      "0\n",
      "705300\n",
      "450000000\n",
      "500000000\n",
      "unknown\n",
      "unknown\n",
      "unknown\n",
      "unknown\n",
      "unknown\n",
      "3500000000\n",
      "unknown\n",
      "unknown\n",
      "unknown\n",
      "unknown\n",
      "500000000\n",
      "500000000000\n",
      "5000000000\n",
      "unknown\n",
      "4000000000\n",
      "unknown\n",
      "unknown\n",
      "['200000', '2000000000', '1000', 'unknown', 'unknown', '6000000', '30000000', '4500000000', '1000000000000', '1000000000', '100000000000', '95000000', '20000', '45000000', '1000000', '19000000', '8500000', '10000000', '1400000000', 'unknown', '22000000000', '3000000000', '1300000000', '7000000000', '1000', '62000000', '4000000000', 'unknown', '42000000', '300000000', '27000000000', '1200000000', '18500000000', '11000000', '2000000000', '5200', '1500000000', 'unknown', '421000000', 'unknown', '0', '705300', '450000000', '500000000', 'unknown', 'unknown', 'unknown', 'unknown', 'unknown', '3500000000', 'unknown', 'unknown', 'unknown', 'unknown', '500000000', '500000000000', '5000000000', 'unknown', '4000000000', 'unknown', 'unknown']\n"
     ]
    }
   ],
   "source": [
    "planets_population = []\n",
    "for count in range(number_of_planets):\n",
    "    count = count+1\n",
    "    planet = requests.get(f'https://swapi.co/api/planets/{count}').json()\n",
    "    population = planet['population']\n",
    "    planets_population.append(population)\n",
    "print(planets_population)\n"
   ]
  },
  {
   "cell_type": "code",
   "execution_count": null,
   "metadata": {},
   "outputs": [],
   "source": []
  },
  {
   "cell_type": "code",
   "execution_count": null,
   "metadata": {},
   "outputs": [],
   "source": []
  },
  {
   "cell_type": "markdown",
   "metadata": {},
   "source": [
    "## 14) Get the population of each of the planets, EXCEPT the ones that have a population of `'unknown'`\n",
    "\n",
    "* *Tip: Use a list comprehension with a filter (that's the `..if..` part at the end)*"
   ]
  },
  {
   "cell_type": "code",
   "execution_count": 85,
   "metadata": {},
   "outputs": [
    {
     "name": "stdout",
     "output_type": "stream",
     "text": [
      "200000\n",
      "2000000000\n",
      "1000\n",
      "6000000\n",
      "30000000\n",
      "4500000000\n",
      "1000000000000\n",
      "1000000000\n",
      "100000000000\n",
      "95000000\n",
      "20000\n",
      "45000000\n",
      "1000000\n",
      "19000000\n",
      "8500000\n",
      "10000000\n",
      "1400000000\n",
      "22000000000\n",
      "3000000000\n",
      "1300000000\n",
      "7000000000\n",
      "1000\n",
      "62000000\n",
      "4000000000\n",
      "42000000\n",
      "300000000\n",
      "27000000000\n",
      "1200000000\n",
      "18500000000\n",
      "11000000\n",
      "2000000000\n",
      "5200\n",
      "1500000000\n",
      "421000000\n",
      "0\n",
      "705300\n",
      "450000000\n",
      "500000000\n",
      "3500000000\n",
      "500000000\n",
      "500000000000\n",
      "5000000000\n",
      "4000000000\n",
      "['200000', '2000000000', '1000', '6000000', '30000000', '4500000000', '1000000000000', '1000000000', '100000000000', '95000000', '20000', '45000000', '1000000', '19000000', '8500000', '10000000', '1400000000', '22000000000', '3000000000', '1300000000', '7000000000', '1000', '62000000', '4000000000', '42000000', '300000000', '27000000000', '1200000000', '18500000000', '11000000', '2000000000', '5200', '1500000000', '421000000', '0', '705300', '450000000', '500000000', '3500000000', '500000000', '500000000000', '5000000000', '4000000000']\n"
     ]
    }
   ],
   "source": [
    "planets_population_2 = []\n",
    "for count in range(number_of_planets):\n",
    "    count = count+1\n",
    "    planet = requests.get(f'https://swapi.co/api/planets/{count}').json()\n",
    "    population = planet['population']\n",
    "    if population != 'unknown':\n",
    "        print(population)\n",
    "        planets_population_2.append(population)\n",
    "print(planets_population_2)\n"
   ]
  },
  {
   "cell_type": "code",
   "execution_count": null,
   "metadata": {},
   "outputs": [],
   "source": []
  },
  {
   "cell_type": "code",
   "execution_count": null,
   "metadata": {},
   "outputs": [],
   "source": []
  },
  {
   "cell_type": "markdown",
   "metadata": {},
   "source": [
    "## 14) Add up the populations\n",
    "\n",
    "* *Tip: They're strings right now, so it isn't going to work unless you change something about them*"
   ]
  },
  {
   "cell_type": "code",
   "execution_count": 89,
   "metadata": {},
   "outputs": [
    {
     "name": "stdout",
     "output_type": "stream",
     "text": [
      "1711401432500\n"
     ]
    }
   ],
   "source": [
    "total_population = 0\n",
    "for planet_population_2 in planets_population_2:\n",
    "    population = int(planet_population_2)\n",
    "    total_population = population + total_population\n",
    "print(total_population)"
   ]
  },
  {
   "cell_type": "code",
   "execution_count": null,
   "metadata": {},
   "outputs": [],
   "source": []
  },
  {
   "cell_type": "code",
   "execution_count": null,
   "metadata": {},
   "outputs": [],
   "source": []
  },
  {
   "cell_type": "markdown",
   "metadata": {},
   "source": [
    "## 15) Print what percentage of the total population each planet has\n",
    "\n",
    "I would like the sentences to be `\"The planet ____ has a population of _____, which is ___% of the total population\"`. If we don't know the planet's population, say `\"We don't know the population of _____\"`.\n",
    "\n",
    "* *Tip: This finally uses a for loop, but also the result of the last question*"
   ]
  },
  {
   "cell_type": "code",
   "execution_count": 98,
   "metadata": {},
   "outputs": [
    {
     "name": "stdout",
     "output_type": "stream",
     "text": [
      "The planet Tatooine has a population of 200000 which is 0.0 percent of the total population.\n",
      "The planet Alderaan has a population of 2000000000 which is 0.1169 percent of the total population.\n",
      "The planet Yavin IV has a population of 1000 which is 0.0 percent of the total population.\n",
      "We don't know the population of Hoth\n",
      "We don't know the population of Dagobah\n",
      "The planet Bespin has a population of 6000000 which is 0.0004 percent of the total population.\n",
      "The planet Endor has a population of 30000000 which is 0.0018 percent of the total population.\n",
      "The planet Naboo has a population of 4500000000 which is 0.2629 percent of the total population.\n",
      "The planet Coruscant has a population of 1000000000000 which is 58.4316 percent of the total population.\n",
      "The planet Kamino has a population of 1000000000 which is 0.0584 percent of the total population.\n",
      "The planet Geonosis has a population of 100000000000 which is 5.8432 percent of the total population.\n",
      "The planet Utapau has a population of 95000000 which is 0.0056 percent of the total population.\n",
      "The planet Mustafar has a population of 20000 which is 0.0 percent of the total population.\n",
      "The planet Kashyyyk has a population of 45000000 which is 0.0026 percent of the total population.\n",
      "The planet Polis Massa has a population of 1000000 which is 0.0001 percent of the total population.\n",
      "The planet Mygeeto has a population of 19000000 which is 0.0011 percent of the total population.\n",
      "The planet Felucia has a population of 8500000 which is 0.0005 percent of the total population.\n",
      "The planet Cato Neimoidia has a population of 10000000 which is 0.0006 percent of the total population.\n",
      "The planet Saleucami has a population of 1400000000 which is 0.0818 percent of the total population.\n",
      "We don't know the population of Stewjon\n",
      "The planet Eriadu has a population of 22000000000 which is 1.2855 percent of the total population.\n",
      "The planet Corellia has a population of 3000000000 which is 0.1753 percent of the total population.\n",
      "The planet Rodia has a population of 1300000000 which is 0.076 percent of the total population.\n",
      "The planet Nal Hutta has a population of 7000000000 which is 0.409 percent of the total population.\n",
      "The planet Dantooine has a population of 1000 which is 0.0 percent of the total population.\n",
      "The planet Bestine IV has a population of 62000000 which is 0.0036 percent of the total population.\n",
      "The planet Ord Mantell has a population of 4000000000 which is 0.2337 percent of the total population.\n",
      "We don't know the population of unknown\n",
      "The planet Trandosha has a population of 42000000 which is 0.0025 percent of the total population.\n",
      "The planet Socorro has a population of 300000000 which is 0.0175 percent of the total population.\n",
      "The planet Mon Cala has a population of 27000000000 which is 1.5777 percent of the total population.\n",
      "The planet Chandrila has a population of 1200000000 which is 0.0701 percent of the total population.\n",
      "The planet Sullust has a population of 18500000000 which is 1.081 percent of the total population.\n",
      "The planet Toydaria has a population of 11000000 which is 0.0006 percent of the total population.\n",
      "The planet Malastare has a population of 2000000000 which is 0.1169 percent of the total population.\n",
      "The planet Dathomir has a population of 5200 which is 0.0 percent of the total population.\n",
      "The planet Ryloth has a population of 1500000000 which is 0.0876 percent of the total population.\n",
      "We don't know the population of Aleen Minor\n",
      "The planet Vulpter has a population of 421000000 which is 0.0246 percent of the total population.\n",
      "We don't know the population of Troiken\n",
      "The planet Tund has a population of 0 which is 0.0 percent of the total population.\n",
      "The planet Haruun Kal has a population of 705300 which is 0.0 percent of the total population.\n",
      "The planet Cerea has a population of 450000000 which is 0.0263 percent of the total population.\n",
      "The planet Glee Anselm has a population of 500000000 which is 0.0292 percent of the total population.\n",
      "We don't know the population of Iridonia\n",
      "We don't know the population of Tholoth\n",
      "We don't know the population of Iktotch\n",
      "We don't know the population of Quermia\n",
      "We don't know the population of Dorin\n",
      "The planet Champala has a population of 3500000000 which is 0.2045 percent of the total population.\n",
      "We don't know the population of Mirial\n",
      "We don't know the population of Serenno\n",
      "We don't know the population of Concord Dawn\n",
      "We don't know the population of Zolan\n",
      "The planet Ojom has a population of 500000000 which is 0.0292 percent of the total population.\n",
      "The planet Skako has a population of 500000000000 which is 29.2158 percent of the total population.\n",
      "The planet Muunilinst has a population of 5000000000 which is 0.2922 percent of the total population.\n",
      "We don't know the population of Shili\n",
      "The planet Kalee has a population of 4000000000 which is 0.2337 percent of the total population.\n",
      "We don't know the population of Umbara\n",
      "We don't know the population of Jakku\n"
     ]
    }
   ],
   "source": [
    "for count in range(number_of_planets):\n",
    "    count = count+1\n",
    "    planet = requests.get(f'https://swapi.co/api/planets/{count}').json()\n",
    "    if planet['population'] == 'unknown' :\n",
    "        print(\"We don't know the population of\", planet['name'])\n",
    "    else :\n",
    "        population = int(planet['population'])\n",
    "        percent = (population/total_population) * 100\n",
    "        percent = round(percent, 4)\n",
    "        print(\"The planet\", planet['name'], \"has a population of\", population, \"which is\", percent, \"percent of the total population.\" )\n",
    "                         \n",
    "              \n",
    "              "
   ]
  },
  {
   "cell_type": "code",
   "execution_count": null,
   "metadata": {},
   "outputs": [],
   "source": []
  },
  {
   "cell_type": "code",
   "execution_count": null,
   "metadata": {},
   "outputs": [],
   "source": []
  }
 ],
 "metadata": {
  "kernelspec": {
   "display_name": "Python 3",
   "language": "python",
   "name": "python3"
  },
  "language_info": {
   "codemirror_mode": {
    "name": "ipython",
    "version": 3
   },
   "file_extension": ".py",
   "mimetype": "text/x-python",
   "name": "python",
   "nbconvert_exporter": "python",
   "pygments_lexer": "ipython3",
   "version": "3.7.1"
  }
 },
 "nbformat": 4,
 "nbformat_minor": 2
}
